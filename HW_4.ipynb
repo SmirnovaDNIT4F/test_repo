{
 "cells": [
  {
   "cell_type": "code",
   "execution_count": 1,
   "metadata": {},
   "outputs": [
    {
     "name": "stdout",
     "output_type": "stream",
     "text": [
      "Insert password: ········\n",
      "{'user': 'postgres', 'dbname': 'postgres', 'host': 'localhost', 'port': '5432', 'tty': '', 'options': '', 'sslmode': 'prefer', 'sslcompression': '0', 'krbsrvname': 'postgres', 'target_session_attrs': 'any'}\n"
     ]
    }
   ],
   "source": [
    "# Формирование автоматического отчета \n",
    "\n",
    "# Подготовительные действия\n",
    "\n",
    "# 1. Заходим в командную строку Anaconda Prompt и выполняем следующую команду: \n",
    "# для Windows \n",
    "#pip install psycopg2\n",
    "# для MacOS\n",
    "# pip install psycopg2-binary\n",
    "\n",
    "# Создаем соединение Python с базой данных\n",
    "# import getpass для скрытия пароля (необязательная команда)\n",
    "\n",
    "import psycopg2 \n",
    "import getpass  \n",
    "conn=psycopg2.connect(user='postgres',\n",
    "                      database='postgres', #проверяем, чтобы название совпадало с названием в вашей БЗ\n",
    "                      host='localhost',\n",
    "                      port='5432',\n",
    "                      password=getpass.getpass('Insert password: ')\n",
    "                        )\n",
    "print(conn.get_dsn_parameters())"
   ]
  },
  {
   "cell_type": "code",
   "execution_count": 2,
   "metadata": {},
   "outputs": [
    {
     "data": {
      "text/html": [
       "<div>\n",
       "<style scoped>\n",
       "    .dataframe tbody tr th:only-of-type {\n",
       "        vertical-align: middle;\n",
       "    }\n",
       "\n",
       "    .dataframe tbody tr th {\n",
       "        vertical-align: top;\n",
       "    }\n",
       "\n",
       "    .dataframe thead th {\n",
       "        text-align: right;\n",
       "    }\n",
       "</style>\n",
       "<table border=\"1\" class=\"dataframe\">\n",
       "  <thead>\n",
       "    <tr style=\"text-align: right;\">\n",
       "      <th></th>\n",
       "      <th>rating</th>\n",
       "      <th>default</th>\n",
       "      <th>non-default</th>\n",
       "    </tr>\n",
       "  </thead>\n",
       "  <tbody>\n",
       "    <tr>\n",
       "      <th>0</th>\n",
       "      <td>E</td>\n",
       "      <td>33</td>\n",
       "      <td>2</td>\n",
       "    </tr>\n",
       "    <tr>\n",
       "      <th>1</th>\n",
       "      <td>C+</td>\n",
       "      <td>4</td>\n",
       "      <td>1</td>\n",
       "    </tr>\n",
       "    <tr>\n",
       "      <th>2</th>\n",
       "      <td>C++</td>\n",
       "      <td>12</td>\n",
       "      <td>1</td>\n",
       "    </tr>\n",
       "    <tr>\n",
       "      <th>3</th>\n",
       "      <td>B</td>\n",
       "      <td>20</td>\n",
       "      <td>7</td>\n",
       "    </tr>\n",
       "    <tr>\n",
       "      <th>4</th>\n",
       "      <td>B+</td>\n",
       "      <td>32</td>\n",
       "      <td>39</td>\n",
       "    </tr>\n",
       "    <tr>\n",
       "      <th>5</th>\n",
       "      <td>B++</td>\n",
       "      <td>60</td>\n",
       "      <td>182</td>\n",
       "    </tr>\n",
       "    <tr>\n",
       "      <th>6</th>\n",
       "      <td>A</td>\n",
       "      <td>22</td>\n",
       "      <td>212</td>\n",
       "    </tr>\n",
       "    <tr>\n",
       "      <th>7</th>\n",
       "      <td>A+</td>\n",
       "      <td>3</td>\n",
       "      <td>60</td>\n",
       "    </tr>\n",
       "    <tr>\n",
       "      <th>8</th>\n",
       "      <td>A++</td>\n",
       "      <td>2</td>\n",
       "      <td>19</td>\n",
       "    </tr>\n",
       "  </tbody>\n",
       "</table>\n",
       "</div>"
      ],
      "text/plain": [
       "  rating  default  non-default\n",
       "0      E       33            2\n",
       "1     C+        4            1\n",
       "2    C++       12            1\n",
       "3      B       20            7\n",
       "4     B+       32           39\n",
       "5    B++       60          182\n",
       "6      A       22          212\n",
       "7     A+        3           60\n",
       "8    A++        2           19"
      ]
     },
     "execution_count": 2,
     "metadata": {},
     "output_type": "execute_result"
    }
   ],
   "source": [
    "# Генерация таблицы (из Дз_3) для отчета\n",
    "\n",
    "import pandas as pd\n",
    "\n",
    "query1=\"select public.ratings_info.\\\"rat_key\\\", \\\"rat_id\\\", \\\"agency_id\\\", \\\"grade\\\", \\\"change\\\", \\\"date\\\", \\\"ent_id\\\", \\\"grade_id\\\", \\\"default\\\" from public.ratings_info inner join (select \\\"rat_key\\\", \\\"grade\\\", \\\"change\\\", public.ratings_task.\\\"date\\\", public.ratings_task.\\\"ent_id\\\", \\\"grade_id\\\", \\\"event\\\" as \\\"default\\\" from public.ratings_task left join (select * from public.credit_events_task WHERE \\\"event\\\"='dft' AND \\\"ent_id\\\" IS NOT NULL AND \\\"date\\\" >= '11.11.2014' AND \\\"date\\\" <= '11.11.2016') as tbl2 on public.ratings_task.\\\"ent_id\\\"=tbl2.\\\"ent_id\\\" WHERE public.ratings_task.\\\"date\\\" >= '11.11.2014' AND public.ratings_task.\\\"date\\\" <= '11.11.2016') as tb1 on public.ratings_info.\\\"rat_key\\\"=tb1.\\\"rat_key\\\" where \\\"change\\\" <> 'снят'  and \\\"change\\\" <> 'приостановлен' and \\\"rat_id\\\" = 14 and \\\"agency_id\\\" = 'EXP';\"\n",
    "tbl1=pd.read_sql_query(query1,conn)\n",
    "group1=tbl1.groupby(['grade_id']).count()\n",
    "tbl2=tbl1[['grade_id', 'rat_key', 'rat_id', 'agency_id', 'grade', 'change', 'date', 'ent_id', 'default']][(tbl1['default']!='dft')]\n",
    "tbl2 = tbl2.rename(columns = {tbl2.columns[-1] : 'non-default'})\n",
    "tbl2['non-default'] = pd.to_numeric(tbl2['non-default'], errors='coerce')\n",
    "tbl2=tbl2.fillna(1)\n",
    "group2=tbl2.groupby(['grade_id']).count()\n",
    "group=pd.merge(group1,group2, on='grade_id',how='inner').sort_values('grade_id', ascending=False)\n",
    "dist1=group[['default','non-default']]\n",
    "query_add=\"SELECT * FROM public.scale_exp_task;\"\n",
    "tbl_add=pd.read_sql_query(query_add,conn)\n",
    "dist2=pd.merge(dist1,tbl_add, on ='grade_id',how='inner').sort_values('grade_id', ascending=False)\n",
    "dist=dist2[['grade','default', 'non-default']]\n",
    "dist = dist.rename(columns = {dist.columns[0] : 'rating'})\n",
    "dist"
   ]
  },
  {
   "cell_type": "code",
   "execution_count": 4,
   "metadata": {},
   "outputs": [
    {
     "data": {
      "text/plain": [
       "<function matplotlib.pyplot.show(*args, **kw)>"
      ]
     },
     "execution_count": 4,
     "metadata": {},
     "output_type": "execute_result"
    },
    {
     "data": {
      "image/png": "[encoded data removed]",
      "text/plain": [
       "<Figure size 432x288 with 1 Axes>"
      ]
     },
     "metadata": {
      "needs_background": "light"
     },
     "output_type": "display_data"
    }
   ],
   "source": [
    "# Генерация графика (из Дз_3) для отчета\n",
    "\n",
    "import matplotlib.pyplot as plt # импортируем библиотеку для построения графиков\n",
    "\n",
    "bar1=plt.bar(dist['rating'].index, dist['non-default'], width=0.5, label='non-default', color='g')\n",
    "bar2=plt.bar(dist['rating'].index+0.4, dist['default'], width=0.5, label='default', color='r')\n",
    "\n",
    "plt.xlabel('Ratings')\n",
    "plt.ylabel('Number of companies')\n",
    "plt.title('Распределение дефолтеров и недефолтеров')\n",
    "plt.xticks(dist['rating'].index, dist['rating'])\n",
    "plt.gca().invert_xaxis() #сортируем рейтинги в порядке ухудшения.\n",
    "plt.legend()\n",
    "\n",
    "plt.savefig('default_and_non-default_distribution.png') # сохранение картинки в рабочую директорию\n",
    "plt.show"
   ]
  },
  {
   "cell_type": "code",
   "execution_count": null,
   "metadata": {},
   "outputs": [],
   "source": [
    "# Действия перед генерацией отчета\n",
    "\n",
    "# Install jinja2 and weasyprint in Anaconda prompt\n",
    "# pip install jinja2\n",
    "# pip install weasyprint\n",
    "\n",
    "# 1. В Anaconda Prompt выполнить pip install --upgrade pip setuptools\n",
    "# 2. Установка c настройками по умолчанию \n",
    "# https://github.com/tschoonj/GTK-for-Windows-Runtime-Environment-Installer/releases/download/2019-11-07/gtk3-runtime-3.24.12-2019-11-07-ts-win64.exe\n",
    "# 3. Добавление папки в путь Python (исполнить команды в Anaconda Propmpt):\n",
    "# SET PROPER_GTK_FOLDER='C:\\Program Files\\GTK3-Runtime Win64\\bin'\n",
    "# SET PATH=%PROPER_GTK_FOLDER%;%PATH%\n",
    "# PATH (убедиться, что в списке директорий появилась добавленная)\n",
    "# 4. Перезапустить Python и исполнить код с генерацией отчета ниже."
   ]
  },
  {
   "cell_type": "code",
   "execution_count": null,
   "metadata": {},
   "outputs": [],
   "source": [
    "# Собираем автоматический отчет в виде pdf\n",
    "\n",
    "from __future__ import print_function\n",
    "from jinja2 import Environment, FileSystemLoader\n",
    "from weasyprint import HTML, Document\n",
    "import os\n",
    "\n",
    "env = Environment(loader=FileSystemLoader('.')) \n",
    "template = env.get_template(\"myreport.html\") # Шаблон сохранен в рабочей директории \n",
    "template_vars = {\"title\": \"Отчет составлен Смирновой Дарьей\", # Заголовок для отчета\n",
    "                \"INTRO\": \"Данный отчет содержит информацию о распределении дефолтеров и недефолтеров за период 11.11.2014-11.11.2016 для типа рейтинга rat_id=24.\", # Аннотация для начала отчета\n",
    "                 \"TABLE_DESC\": \"В таблице представлено распределение дефолтеров и недефолтеров за период 11.11.2014-11.11.2016 для типа рейтинга 24\", # Подпись к таблице в отчете\n",
    "                 \"TABLE\": dist.to_html(), # Перевод таблицы в формат html\n",
    "                 \"IMAGE_DESC\": \"На гистограмме изображена визуализация распределения\",  # Подпись к гистограмме в отчете\n",
    "                 \"IMAGE\": os.path.realpath('default_and_non-default_distribution.png') # Путь, где сохранен рисунок. Данный код подразумевает, что картинка хранится в рабочей папке.\n",
    "                }\n",
    "\n",
    "# Собираем и печатаем репорт\n",
    "html_out = template.render(template_vars, presentational_hints=True)\n",
    "HTML(string=html_out).write_pdf('Default_and_non-default_distribution.pdf', presentational_hints=True)\n"
   ]
  }
 ],
 "metadata": {
  "kernelspec": {
   "display_name": "Python 3",
   "language": "python",
   "name": "python3"
  },
  "language_info": {
   "codemirror_mode": {
    "name": "ipython",
    "version": 3
   },
   "file_extension": ".py",
   "mimetype": "text/x-python",
   "name": "python",
   "nbconvert_exporter": "python",
   "pygments_lexer": "ipython3",
   "version": "3.7.3"
  }
 },
 "nbformat": 4,
 "nbformat_minor": 2
}
