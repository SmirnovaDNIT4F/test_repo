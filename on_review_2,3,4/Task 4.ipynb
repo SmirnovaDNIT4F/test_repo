{
 "cells": [
  {
   "cell_type": "markdown",
   "metadata": {},
   "source": [
    "# Задание 4\n",
    "### В качестве основы для сохранения данных взято задание №3"
   ]
  },
  {
   "cell_type": "code",
   "execution_count": 1,
   "metadata": {},
   "outputs": [],
   "source": [
    "import pandas as pd\n",
    "import datetime as dt\n",
    "import psycopg2\n",
    "import getpass\n",
    "import numpy as np\n",
    "import matplotlib.pyplot as plt"
   ]
  },
  {
   "cell_type": "code",
   "execution_count": 3,
   "metadata": {},
   "outputs": [
    {
     "name": "stdout",
     "output_type": "stream",
     "text": [
      "Insert password: ········\n"
     ]
    }
   ],
   "source": [
    "# подключение к БД\n",
    "usr = 'postgres'\n",
    "dbs = 'postgres'\n",
    "host = 'localhost'\n",
    "port = '5432'\n",
    "conn = psycopg2.connect(user=usr,\n",
    "                      database=dbs,\n",
    "                      host=host,\n",
    "                      port=port,\n",
    "                      password=getpass.getpass('Insert password: ')\n",
    "                    )"
   ]
  },
  {
   "cell_type": "code",
   "execution_count": 4,
   "metadata": {},
   "outputs": [],
   "source": [
    "# возвращает матрицу с кредитным рейтингом\n",
    "def get_default_matrix(start_date, end_date):\n",
    "    # SQL запрос\n",
    "    query=\"SELECT * FROM ratings_task2 where agency_id = \\'EXP\\' and date >= \\'%s\\' and date <= \\'%s\\'\" % (start_date, end_date)\n",
    "    ratings=pd.read_sql_query(query,conn)\n",
    "    ratings = ratings[['grade', 'okpo', 'date']]\n",
    "\n",
    "    # упорядоченный список рейтингов в порядке убывания\n",
    "    rat_list = ['A++', 'A+', 'A', 'BBB+', 'BBB', 'BBB-', 'BB+', 'BB', 'B++', 'B+', 'B', 'B-','C++', 'C+', 'C', 'D', 'E']\n",
    "    # названия колонок для таблицы\n",
    "    col_list = ['non-default', 'default']\n",
    "\n",
    "    # фильтрация по заданному списку рейтингов\n",
    "    ratings = ratings[ratings['grade'].isin(rat_list)]\n",
    "\n",
    "    # шаблон матрицы для расчета кол-ва сех компаний и количества дефолтных из них\n",
    "    # где названия строк - рейтинг, колонок - кол-во дефолтных и недефолтных компаний\n",
    "    zer_matrix = np.zeros((len(rat_list), 2), dtype =int)\n",
    "    def_matrix = pd.DataFrame(zer_matrix, columns = col_list, index=rat_list)\n",
    "\n",
    "    # группировка по компаниям\n",
    "    rat_group = ratings.groupby('okpo')\n",
    "\n",
    "    # итерация по всем оценкам\n",
    "    for i in range(len(rat_list)):\n",
    "        # кол-во всех уникальных компаний с данным рейтингом\n",
    "        comp_num_by_rat = len(ratings[ratings['grade'] == rat_list[i]]['okpo'].unique())\n",
    "        #def_num = len(rat_group.filter(lambda x: (x['grade'].str.contains(rat_list[i], regex=False).any()) & \\\n",
    "         #                ((x['grade'].str.contains('D', regex=False).any()) | (x['grade'].str.contains('E', regex=False).any())))['okpo'].unique())\n",
    "\n",
    "        def_num = len(rat_group.filter(lambda x: (x['grade'].isin([rat_list[i]]).any()) & \\\n",
    "                         (x['grade'].isin(['E','D']).any()))['okpo'].unique())\n",
    "\n",
    "        def_matrix['non-default'][rat_list[i]] = comp_num_by_rat - def_num\n",
    "        def_matrix['default'][rat_list[i]] = def_num\n",
    "    \n",
    "    return def_matrix"
   ]
  },
  {
   "cell_type": "code",
   "execution_count": 5,
   "metadata": {},
   "outputs": [],
   "source": [
    "# Даты для периода\n",
    "start_date = \"2010-08-04\"\n",
    "end_date = \"2016-04-18\"\n",
    "def_matrix = get_default_matrix(start_date, end_date)"
   ]
  },
  {
   "cell_type": "markdown",
   "metadata": {},
   "source": [
    "### В таблице представлено распределение количества дефолтных и недефолтных компани по рейтингу"
   ]
  },
  {
   "cell_type": "code",
   "execution_count": 6,
   "metadata": {},
   "outputs": [
    {
     "data": {
      "text/html": [
       "<div>\n",
       "<style scoped>\n",
       "    .dataframe tbody tr th:only-of-type {\n",
       "        vertical-align: middle;\n",
       "    }\n",
       "\n",
       "    .dataframe tbody tr th {\n",
       "        vertical-align: top;\n",
       "    }\n",
       "\n",
       "    .dataframe thead th {\n",
       "        text-align: right;\n",
       "    }\n",
       "</style>\n",
       "<table border=\"1\" class=\"dataframe\">\n",
       "  <thead>\n",
       "    <tr style=\"text-align: right;\">\n",
       "      <th></th>\n",
       "      <th>non-default</th>\n",
       "      <th>default</th>\n",
       "    </tr>\n",
       "  </thead>\n",
       "  <tbody>\n",
       "    <tr>\n",
       "      <th>A++</th>\n",
       "      <td>116</td>\n",
       "      <td>1</td>\n",
       "    </tr>\n",
       "    <tr>\n",
       "      <th>A+</th>\n",
       "      <td>266</td>\n",
       "      <td>3</td>\n",
       "    </tr>\n",
       "    <tr>\n",
       "      <th>A</th>\n",
       "      <td>562</td>\n",
       "      <td>28</td>\n",
       "    </tr>\n",
       "    <tr>\n",
       "      <th>BBB+</th>\n",
       "      <td>2</td>\n",
       "      <td>0</td>\n",
       "    </tr>\n",
       "    <tr>\n",
       "      <th>BBB</th>\n",
       "      <td>8</td>\n",
       "      <td>0</td>\n",
       "    </tr>\n",
       "    <tr>\n",
       "      <th>BBB-</th>\n",
       "      <td>2</td>\n",
       "      <td>0</td>\n",
       "    </tr>\n",
       "    <tr>\n",
       "      <th>BB+</th>\n",
       "      <td>1</td>\n",
       "      <td>0</td>\n",
       "    </tr>\n",
       "    <tr>\n",
       "      <th>BB</th>\n",
       "      <td>2</td>\n",
       "      <td>0</td>\n",
       "    </tr>\n",
       "    <tr>\n",
       "      <th>B++</th>\n",
       "      <td>305</td>\n",
       "      <td>24</td>\n",
       "    </tr>\n",
       "    <tr>\n",
       "      <th>B+</th>\n",
       "      <td>110</td>\n",
       "      <td>13</td>\n",
       "    </tr>\n",
       "    <tr>\n",
       "      <th>B</th>\n",
       "      <td>36</td>\n",
       "      <td>10</td>\n",
       "    </tr>\n",
       "    <tr>\n",
       "      <th>B-</th>\n",
       "      <td>1</td>\n",
       "      <td>0</td>\n",
       "    </tr>\n",
       "    <tr>\n",
       "      <th>C++</th>\n",
       "      <td>14</td>\n",
       "      <td>5</td>\n",
       "    </tr>\n",
       "    <tr>\n",
       "      <th>C+</th>\n",
       "      <td>10</td>\n",
       "      <td>7</td>\n",
       "    </tr>\n",
       "    <tr>\n",
       "      <th>C</th>\n",
       "      <td>8</td>\n",
       "      <td>8</td>\n",
       "    </tr>\n",
       "    <tr>\n",
       "      <th>D</th>\n",
       "      <td>0</td>\n",
       "      <td>1</td>\n",
       "    </tr>\n",
       "    <tr>\n",
       "      <th>E</th>\n",
       "      <td>0</td>\n",
       "      <td>34</td>\n",
       "    </tr>\n",
       "  </tbody>\n",
       "</table>\n",
       "</div>"
      ],
      "text/plain": [
       "      non-default  default\n",
       "A++           116        1\n",
       "A+            266        3\n",
       "A             562       28\n",
       "BBB+            2        0\n",
       "BBB             8        0\n",
       "BBB-            2        0\n",
       "BB+             1        0\n",
       "BB              2        0\n",
       "B++           305       24\n",
       "B+            110       13\n",
       "B              36       10\n",
       "B-              1        0\n",
       "C++            14        5\n",
       "C+             10        7\n",
       "C               8        8\n",
       "D               0        1\n",
       "E               0       34"
      ]
     },
     "execution_count": 6,
     "metadata": {},
     "output_type": "execute_result"
    }
   ],
   "source": [
    "def_matrix"
   ]
  },
  {
   "cell_type": "code",
   "execution_count": 12,
   "metadata": {},
   "outputs": [
    {
     "name": "stdout",
     "output_type": "stream",
     "text": [
      "Таблица с количеством дефолтных и недефолтных компаний можно сохранить.\n",
      "Хотите ли вы сохранить таблицу? Если да, напишите \"да\", иначе любую другую клавишу\n",
      "да\n",
      "\n",
      "По умолчанию файл будет сохранен в папке: C:\\Users\\User\\Desktop\\\n",
      "Необходимо ли изменить путь папки? Если да, напишите \"да\", иначе любую другую клавишу\n",
      "да\n",
      "\n",
      "Введите полный путь к папке: \n",
      "C:\\Users\\User\\Desktop\\экспорт\\\n",
      "\n",
      "По умолчанию файл будет назван: Количество дефолтных и недефолтных компаний за период с '2010-08-04' по '2016-04-18'\n",
      "Необходимо ли изменить название файла? Если да, напишите \"да\", иначе любую другую клавишу\n",
      "л\n",
      "\n",
      " Файл сохранен в: C:\\Users\\User\\Desktop\\экспорт\\Количество дефолтных и недефолтных компаний за период с '2010-08-04' по '2016-04-18'.csv\n"
     ]
    }
   ],
   "source": [
    "# Задание 1. Пункт a и b\n",
    "print(\"Таблица с кредитным рейтингом компаний можно сохранить.\")\n",
    "print(\"Хотите ли вы сохранить таблицу? Если да, напишите \\\"да\\\", иначе любую другую клавишу\")\n",
    "file_name = \"Таблица с кредитными рейтингами за период с \\'%s\\' по \\'%s\\'\" % (start_date, end_date)\n",
    "path = 'C:\\\\Users\\\\User\\\\Desktop\\\\'\n",
    "answer = input()\n",
    "\n",
    "if answer.lower() == 'да':\n",
    "    print('\\nПо умолчанию файл будет сохранен в папке: %s' % path)\n",
    "    print('Необходимо ли изменить путь папки? Если да, напишите \\\"да\\\", иначе любую другую клавишу')\n",
    "    answer = input()\n",
    "    if answer.lower() == 'да':\n",
    "        print('\\nВведите полный путь к папке: ')\n",
    "        answer = input()\n",
    "        path = answer\n",
    "    print('\\nПо умолчанию файл будет назван: %s' % file_name)\n",
    "    print('Необходимо ли изменить название файла? Если да, напишите \\\"да\\\", иначе любую другую клавишу')\n",
    "    answer = input()\n",
    "    if answer.lower() == 'да':\n",
    "        print('\\nВведите новое название файла:')\n",
    "        answer = input()\n",
    "        file_name = answer\n",
    "        if answer.lower() == 'да':\n",
    "            file_name = answer\n",
    "    full_path = path + file_name + \".csv\"\n",
    "    def_matrix.to_csv(full_path, sep=';', encoding='utf-8')\n",
    "    \n",
    "    print('\\n Файл сохранен в: %s' % full_path)"
   ]
  },
  {
   "cell_type": "markdown",
   "metadata": {},
   "source": [
    "### На графике изображено распредление дефолтных и недефолтных компаний по рейтингам"
   ]
  },
  {
   "cell_type": "code",
   "execution_count": 37,
   "metadata": {},
   "outputs": [
    {
     "data": {
      "image/png": "[encoded data removed]",
      "text/plain": [
       "<Figure size 432x288 with 1 Axes>"
      ]
     },
     "metadata": {
      "needs_background": "light"
     },
     "output_type": "display_data"
    }
   ],
   "source": [
    "ax = def_matrix.plot(kind='bar', title =\"Bar chart\", legend=True)\n",
    "ax.set_xlabel(\"grade\")\n",
    "ax.set_ylabel(\"number\")\n",
    "plt.show()"
   ]
  },
  {
   "cell_type": "code",
   "execution_count": 38,
   "metadata": {},
   "outputs": [
    {
     "name": "stdout",
     "output_type": "stream",
     "text": [
      "График с кредитными рейтингами компаний можно сохранить.\n",
      "Хотите ли вы сохранить график? Если да, напишите \"да\", иначе любую другую клавишу\n",
      "да\n",
      "\n",
      "По умолчанию файл будет сохранен в папке: C:\\Users\\User\\Desktop\\\n",
      "Необходимо ли изменить путь папки? Если да, напишите \"да\", иначе любую другую клавишу\n",
      "а\n",
      "\n",
      "По умолчанию файл будет назван: График с кредитными рейтингами компаний за период с '2010-08-04' по '2016-04-18'\n",
      "Необходимо ли изменить название файла? Если да, напишите \"да\", иначе любую другую клавишу\n",
      "а\n",
      "\n",
      "График сохранен в: C:\\Users\\User\\Desktop\\График с кредитными рейтингами компаний за период с '2010-08-04' по '2016-04-18'.png\n"
     ]
    },
    {
     "data": {
      "image/png": "[encoded data removed]",
      "text/plain": [
       "<Figure size 432x288 with 1 Axes>"
      ]
     },
     "metadata": {
      "needs_background": "light"
     },
     "output_type": "display_data"
    }
   ],
   "source": [
    "# Задание 1. Пункт a и b\n",
    "print(\"График с кредитными рейтингами компаний можно сохранить.\")\n",
    "print(\"Хотите ли вы сохранить график? Если да, напишите \\\"да\\\", иначе любую другую клавишу\")\n",
    "file_name = \"График с кредитными рейтингами компаний за период с \\'%s\\' по \\'%s\\'\" % (start_date, end_date)\n",
    "path = 'C:\\\\Users\\\\User\\\\Desktop\\\\'\n",
    "\n",
    "ax = def_matrix.plot(kind='bar', title =\"Bar chart\", legend=True)\n",
    "ax.set_xlabel(\"grade\")\n",
    "ax.set_ylabel(\"number\")\n",
    "\n",
    "answer = input()\n",
    "if answer.lower() == 'да':\n",
    "    print('\\nПо умолчанию файл будет сохранен в папке: %s' % path)\n",
    "    print('Необходимо ли изменить путь папки? Если да, напишите \\\"да\\\", иначе любую другую клавишу')\n",
    "    answer = input()\n",
    "    if answer.lower() == 'да':\n",
    "        print('\\nВведите полный путь к папке: ')\n",
    "        answer = input()\n",
    "        path = answer\n",
    "    print('\\nПо умолчанию файл будет назван: %s' % file_name)\n",
    "    print('Необходимо ли изменить название файла? Если да, напишите \\\"да\\\", иначе любую другую клавишу')\n",
    "    answer = input()\n",
    "    if answer.lower() == 'да':\n",
    "        print('\\nВведите новое название файла:')\n",
    "        answer = input()\n",
    "        file_name = answer\n",
    "        if answer.lower() == 'да':\n",
    "            file_name = answer\n",
    "    full_path = path + file_name + \".png\"\n",
    "    plt.savefig(full_path, dpi=100)\n",
    "    \n",
    "    print('\\nГрафик сохранен в: %s' % full_path)"
   ]
  },
  {
   "cell_type": "markdown",
   "metadata": {},
   "source": [
    "### На графике изображена ROC-кривая по кредитному рейтингу компаний"
   ]
  },
  {
   "cell_type": "code",
   "execution_count": 41,
   "metadata": {},
   "outputs": [
    {
     "name": "stdout",
     "output_type": "stream",
     "text": [
      "\n"
     ]
    },
    {
     "data": {
      "image/png": "[encoded data removed]",
      "text/plain": [
       "<Figure size 432x288 with 1 Axes>"
      ]
     },
     "metadata": {
      "needs_background": "light"
     },
     "output_type": "display_data"
    }
   ],
   "source": [
    "# задание 1. пункт с\n",
    "print(\"На графике изображена ROC-кривая по кредитному рейтингу компаний\")\n",
    "roc = pd.DataFrame(index = def_matrix.index)\n",
    "roc['non-default'] = def_matrix['non-default'].cumsum() / def_matrix['non-default'].sum()\n",
    "roc['default'] = def_matrix['default'].cumsum() / def_matrix['default'].sum()\n",
    "\n",
    "plt.plot(roc['default'].values, roc['non-default'].values)\n",
    "plt.title('ROC-curve')\n",
    "plt.ylabel('default')\n",
    "plt.xlabel('non-default')\n",
    "plt.show()"
   ]
  },
  {
   "cell_type": "code",
   "execution_count": 40,
   "metadata": {},
   "outputs": [
    {
     "name": "stdout",
     "output_type": "stream",
     "text": [
      "График с ROC-кривой можно сохранить.\n",
      "Хотите ли вы сохранить график? Если да, напишите \"да\", иначе любую другую клавишу\n",
      "да\n",
      "\n",
      "По умолчанию файл будет сохранен в папке: C:\\Users\\User\\Desktop\\\n",
      "Необходимо ли изменить путь папки? Если да, напишите \"да\", иначе любую другую клавишу\n",
      "а\n",
      "\n",
      "По умолчанию файл будет назван: График с с ROC-кривой за период с '2010-08-04' по '2016-04-18'\n",
      "Необходимо ли изменить название файла? Если да, напишите \"да\", иначе любую другую клавишу\n",
      "а\n",
      "\n",
      "График сохранен в: C:\\Users\\User\\Desktop\\График с с ROC-кривой за период с '2010-08-04' по '2016-04-18'.png\n"
     ]
    },
    {
     "data": {
      "image/png": "[encoded data removed]",
      "text/plain": [
       "<Figure size 432x288 with 1 Axes>"
      ]
     },
     "metadata": {
      "needs_background": "light"
     },
     "output_type": "display_data"
    }
   ],
   "source": [
    "# Задание 1. Пункт a и b\n",
    "print(\"График с ROC-кривой можно сохранить.\")\n",
    "print(\"Хотите ли вы сохранить график? Если да, напишите \\\"да\\\", иначе любую другую клавишу\")\n",
    "file_name = \"График с с ROC-кривой за период с \\'%s\\' по \\'%s\\'\" % (start_date, end_date)\n",
    "path = 'C:\\\\Users\\\\User\\\\Desktop\\\\'\n",
    "\n",
    "plt.plot(roc['default'].values, roc['non-default'].values)\n",
    "plt.title('ROC-curve')\n",
    "plt.ylabel('default')\n",
    "plt.xlabel('non-default')\n",
    "\n",
    "answer = input()\n",
    "if answer.lower() == 'да':\n",
    "    print('\\nПо умолчанию файл будет сохранен в папке: %s' % path)\n",
    "    print('Необходимо ли изменить путь папки? Если да, напишите \\\"да\\\", иначе любую другую клавишу')\n",
    "    answer = input()\n",
    "    if answer.lower() == 'да':\n",
    "        print('\\nВведите полный путь к папке: ')\n",
    "        answer = input()\n",
    "        path = answer\n",
    "    print('\\nПо умолчанию файл будет назван: %s' % file_name)\n",
    "    print('Необходимо ли изменить название файла? Если да, напишите \\\"да\\\", иначе любую другую клавишу')\n",
    "    answer = input()\n",
    "    if answer.lower() == 'да':\n",
    "        print('\\nВведите новое название файла:')\n",
    "        answer = input()\n",
    "        file_name = answer\n",
    "        if answer.lower() == 'да':\n",
    "            file_name = answer\n",
    "    full_path = path + file_name + \".png\"\n",
    "    plt.savefig(full_path, dpi=100)\n",
    "    \n",
    "    print('\\nГрафик сохранен в: %s' % full_path)\n",
    "plt.show()"
   ]
  },
  {
   "cell_type": "code",
   "execution_count": null,
   "metadata": {},
   "outputs": [],
   "source": [
    "# Собираем автоматический отчет в виде pdf\n",
    "\n",
    "from __future__ import print_function\n",
    "from jinja2 import Environment, FileSystemLoader\n",
    "from weasyprint import HTML, Document\n",
    "import os\n",
    "\n",
    "env = Environment(loader=FileSystemLoader('.'))\n",
    "template = env.get_template(\"myreport.html\") # Шаблон выложен в папке 111seminar на GitHub, его можно редактировать под себя\n",
    "template_vars = {\"title\": \"Отчет составил студент Кочеткова Ирина\",\n",
    "                \"INTRO\": \"В документе собраны все данные по заданию кредитного рейтинга\", \n",
    "                 \"TABLE_DESC\": \"Таблица. Кредитные рейтинги на \", \n",
    "                 \"TABLE\": def_matrix.to_html(), \n",
    "                 \"IMAGE_DESC\": \"график с распределение дефотлтных и недефолтных компаний по рейтингам\", \n",
    "                 \"IMAGE\": os.path.realpath('C:\\\\Users\\\\User\\\\Desktop\\\\График с кредитными рейтингами компаний за период с \\'%s\\' по \\'%s\\'' % (start_date, end_date)),\n",
    "                \"IMAGE_DESC\": \"график с ROC-кривой\", \n",
    "                 \"IMAGE\": os.path.realpath('C:\\\\Users\\\\User\\\\Desktop\\\\График с с ROC-кривой за период с \\'%s\\' по \\'%s\\'' % (start_date, end_date))\n",
    "                }\n",
    "# os.path.realpath - путь к файлу относительно рабочей папки. Код выше подразумевает, что картинка хранится в рабочей папке.\n",
    "# Собираем и печатаем репорт\n",
    "html_out = template.render(template_vars, presentational_hints=True)\n",
    "HTML(string=html_out).write_pdf('my_report.pdf', presentational_hints=True)\n",
    "# Можно добавлять стилевые настройки, но это уже развлечение of the class."
   ]
  },
  {
   "cell_type": "code",
   "execution_count": null,
   "metadata": {},
   "outputs": [],
   "source": []
  }
 ],
 "metadata": {
  "kernelspec": {
   "display_name": "Python 3",
   "language": "python",
   "name": "python3"
  },
  "language_info": {
   "codemirror_mode": {
    "name": "ipython",
    "version": 3
   },
   "file_extension": ".py",
   "mimetype": "text/x-python",
   "name": "python",
   "nbconvert_exporter": "python",
   "pygments_lexer": "ipython3",
   "version": "3.7.3"
  }
 },
 "nbformat": 4,
 "nbformat_minor": 2
}
